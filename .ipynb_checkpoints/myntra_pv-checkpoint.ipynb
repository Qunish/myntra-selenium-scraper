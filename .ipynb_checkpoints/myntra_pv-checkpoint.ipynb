{
 "cells": [
  {
   "cell_type": "code",
   "execution_count": 1,
   "id": "c7e1067b-653a-41b0-bea7-d723695c272e",
   "metadata": {},
   "outputs": [],
   "source": [
    "from selenium import webdriver\n",
    "import urllib.request\n",
    "import os\n",
    "import json"
   ]
  },
  {
   "cell_type": "code",
   "execution_count": 3,
   "id": "c3679784-5e13-465a-a5fb-2884bdcefe0d",
   "metadata": {},
   "outputs": [],
   "source": [
    "USER_AGENT_LIST = ['Mozilla/5.0 (Macintosh; Intel Mac OS X 10_15_7) AppleWebKit/537.36 (KHTML, like Gecko) Chrome/114.0.0.0 Safari/537.36']\n",
    "DRIVER_FILE_PATH = \"/Users/qunishdash/Documents/chromedriver_mac64/chromedriver\""
   ]
  },
  {
   "cell_type": "code",
   "execution_count": 4,
   "id": "209054a3-8b36-4381-9de6-455e96ce1dcc",
   "metadata": {},
   "outputs": [],
   "source": [
    "def get_chrome_driver(headless_flag):\n",
    "    # Set up the Selenium webdriver\n",
    "    from selenium import webdriver\n",
    "    from selenium.webdriver.chrome.options import Options\n",
    "    from selenium.webdriver.chrome.service import Service\n",
    "\n",
    "    service = Service(executable_path=DRIVER_FILE_PATH)\n",
    "    chrome_options = Options()\n",
    "    \n",
    "    if headless_flag:\n",
    "        # in case you want headless browser\n",
    "        \n",
    "        chrome_options.add_argument(\"--headless\")\n",
    "        chrome_options.add_argument(\"--disable-extensions\")\n",
    "        chrome_options.add_argument(\"--disable-gpu\")\n",
    "        chrome_options.add_experimental_option('prefs', {'headers': headers})\n",
    "        chrome_options.add_argument(\"--no-sandbox\")\n",
    "        chrome_options.add_argument(\"--start-maximized\")\n",
    "        chrome_options.add_argument(\"user-agent={}\".format(random.choice(USER_AGENT_LIST)))\n",
    "    \n",
    "    driver = webdriver.Chrome(service=service, options=chrome_options) \n",
    "\n",
    "    return driver"
   ]
  },
  {
   "cell_type": "code",
   "execution_count": 10,
   "id": "43a9e918-b00c-4961-8d0a-e14c662a3655",
   "metadata": {},
   "outputs": [],
   "source": [
    "driver = get_chrome_driver(False)"
   ]
  },
  {
   "cell_type": "code",
   "execution_count": null,
   "id": "80756ae3-e835-4768-8bde-8bf715f84ab1",
   "metadata": {},
   "outputs": [],
   "source": [
    "driver = webdriver.Chrome('chromedriver')\n",
    "driver.get('https://www.myntra.com/')\n",
    "time.sleep(5)"
   ]
  },
  {
   "cell_type": "code",
   "execution_count": 9,
   "id": "8787261d-410d-49fc-8d1d-b7797838da43",
   "metadata": {},
   "outputs": [
    {
     "ename": "NoSuchElementException",
     "evalue": "Message: no such element: Unable to locate element: {\"method\":\"css selector\",\"selector\":\".desktop-searchBar\"}\n  (Session info: chrome=115.0.5790.114); For documentation on this error, please visit: https://www.selenium.dev/documentation/webdriver/troubleshooting/errors#no-such-element-exception\nStacktrace:\n0   chromedriver                        0x0000000101a946b8 chromedriver + 4937400\n1   chromedriver                        0x0000000101a8bb73 chromedriver + 4901747\n2   chromedriver                        0x0000000101649616 chromedriver + 435734\n3   chromedriver                        0x000000010168ce0f chromedriver + 712207\n4   chromedriver                        0x000000010168d0a1 chromedriver + 712865\n5   chromedriver                        0x00000001016ce9a4 chromedriver + 981412\n6   chromedriver                        0x00000001016b103d chromedriver + 860221\n7   chromedriver                        0x00000001016cbe76 chromedriver + 970358\n8   chromedriver                        0x00000001016b0de3 chromedriver + 859619\n9   chromedriver                        0x000000010167ed7f chromedriver + 654719\n10  chromedriver                        0x00000001016800de chromedriver + 659678\n11  chromedriver                        0x0000000101a502ad chromedriver + 4657837\n12  chromedriver                        0x0000000101a55130 chromedriver + 4677936\n13  chromedriver                        0x0000000101a5bdef chromedriver + 4705775\n14  chromedriver                        0x0000000101a5605a chromedriver + 4681818\n15  chromedriver                        0x0000000101a2892c chromedriver + 4495660\n16  chromedriver                        0x0000000101a73838 chromedriver + 4802616\n17  chromedriver                        0x0000000101a739b7 chromedriver + 4802999\n18  chromedriver                        0x0000000101a8499f chromedriver + 4872607\n19  libsystem_pthread.dylib             0x00007ff8154171d3 _pthread_start + 125\n20  libsystem_pthread.dylib             0x00007ff815412bd3 thread_start + 15\n",
     "output_type": "error",
     "traceback": [
      "\u001b[0;31m---------------------------------------------------------------------------\u001b[0m",
      "\u001b[0;31mNoSuchElementException\u001b[0m                    Traceback (most recent call last)",
      "Cell \u001b[0;32mIn[9], line 2\u001b[0m\n\u001b[1;32m      1\u001b[0m \u001b[38;5;28;01mfrom\u001b[39;00m \u001b[38;5;21;01mselenium\u001b[39;00m\u001b[38;5;21;01m.\u001b[39;00m\u001b[38;5;21;01mwebdriver\u001b[39;00m\u001b[38;5;21;01m.\u001b[39;00m\u001b[38;5;21;01mcommon\u001b[39;00m\u001b[38;5;21;01m.\u001b[39;00m\u001b[38;5;21;01mby\u001b[39;00m \u001b[38;5;28;01mimport\u001b[39;00m By\n\u001b[0;32m----> 2\u001b[0m \u001b[43mdriver\u001b[49m\u001b[38;5;241;43m.\u001b[39;49m\u001b[43mfind_element\u001b[49m\u001b[43m(\u001b[49m\u001b[43mBy\u001b[49m\u001b[38;5;241;43m.\u001b[39;49m\u001b[43mCLASS_NAME\u001b[49m\u001b[43m,\u001b[49m\u001b[38;5;124;43m'\u001b[39;49m\u001b[38;5;124;43mdesktop-searchBar\u001b[39;49m\u001b[38;5;124;43m'\u001b[39;49m\u001b[43m)\u001b[49m\u001b[38;5;241m.\u001b[39msend_keys(\u001b[38;5;124m'\u001b[39m\u001b[38;5;124mblue hairband\u001b[39m\u001b[38;5;124m'\u001b[39m)\n\u001b[1;32m      3\u001b[0m driver\u001b[38;5;241m.\u001b[39mfind_element(By\u001b[38;5;241m.\u001b[39mCLASS_NAME, \u001b[38;5;124m'\u001b[39m\u001b[38;5;124mdesktop-submit\u001b[39m\u001b[38;5;124m'\u001b[39m)\u001b[38;5;241m.\u001b[39mclick()\n",
      "File \u001b[0;32m~/scrapy-env/lib/python3.9/site-packages/selenium/webdriver/remote/webdriver.py:740\u001b[0m, in \u001b[0;36mWebDriver.find_element\u001b[0;34m(self, by, value)\u001b[0m\n\u001b[1;32m    737\u001b[0m     by \u001b[38;5;241m=\u001b[39m By\u001b[38;5;241m.\u001b[39mCSS_SELECTOR\n\u001b[1;32m    738\u001b[0m     value \u001b[38;5;241m=\u001b[39m \u001b[38;5;124mf\u001b[39m\u001b[38;5;124m'\u001b[39m\u001b[38;5;124m[name=\u001b[39m\u001b[38;5;124m\"\u001b[39m\u001b[38;5;132;01m{\u001b[39;00mvalue\u001b[38;5;132;01m}\u001b[39;00m\u001b[38;5;124m\"\u001b[39m\u001b[38;5;124m]\u001b[39m\u001b[38;5;124m'\u001b[39m\n\u001b[0;32m--> 740\u001b[0m \u001b[38;5;28;01mreturn\u001b[39;00m \u001b[38;5;28;43mself\u001b[39;49m\u001b[38;5;241;43m.\u001b[39;49m\u001b[43mexecute\u001b[49m\u001b[43m(\u001b[49m\u001b[43mCommand\u001b[49m\u001b[38;5;241;43m.\u001b[39;49m\u001b[43mFIND_ELEMENT\u001b[49m\u001b[43m,\u001b[49m\u001b[43m \u001b[49m\u001b[43m{\u001b[49m\u001b[38;5;124;43m\"\u001b[39;49m\u001b[38;5;124;43musing\u001b[39;49m\u001b[38;5;124;43m\"\u001b[39;49m\u001b[43m:\u001b[49m\u001b[43m \u001b[49m\u001b[43mby\u001b[49m\u001b[43m,\u001b[49m\u001b[43m \u001b[49m\u001b[38;5;124;43m\"\u001b[39;49m\u001b[38;5;124;43mvalue\u001b[39;49m\u001b[38;5;124;43m\"\u001b[39;49m\u001b[43m:\u001b[49m\u001b[43m \u001b[49m\u001b[43mvalue\u001b[49m\u001b[43m}\u001b[49m\u001b[43m)\u001b[49m[\u001b[38;5;124m\"\u001b[39m\u001b[38;5;124mvalue\u001b[39m\u001b[38;5;124m\"\u001b[39m]\n",
      "File \u001b[0;32m~/scrapy-env/lib/python3.9/site-packages/selenium/webdriver/remote/webdriver.py:346\u001b[0m, in \u001b[0;36mWebDriver.execute\u001b[0;34m(self, driver_command, params)\u001b[0m\n\u001b[1;32m    344\u001b[0m response \u001b[38;5;241m=\u001b[39m \u001b[38;5;28mself\u001b[39m\u001b[38;5;241m.\u001b[39mcommand_executor\u001b[38;5;241m.\u001b[39mexecute(driver_command, params)\n\u001b[1;32m    345\u001b[0m \u001b[38;5;28;01mif\u001b[39;00m response:\n\u001b[0;32m--> 346\u001b[0m     \u001b[38;5;28;43mself\u001b[39;49m\u001b[38;5;241;43m.\u001b[39;49m\u001b[43merror_handler\u001b[49m\u001b[38;5;241;43m.\u001b[39;49m\u001b[43mcheck_response\u001b[49m\u001b[43m(\u001b[49m\u001b[43mresponse\u001b[49m\u001b[43m)\u001b[49m\n\u001b[1;32m    347\u001b[0m     response[\u001b[38;5;124m\"\u001b[39m\u001b[38;5;124mvalue\u001b[39m\u001b[38;5;124m\"\u001b[39m] \u001b[38;5;241m=\u001b[39m \u001b[38;5;28mself\u001b[39m\u001b[38;5;241m.\u001b[39m_unwrap_value(response\u001b[38;5;241m.\u001b[39mget(\u001b[38;5;124m\"\u001b[39m\u001b[38;5;124mvalue\u001b[39m\u001b[38;5;124m\"\u001b[39m, \u001b[38;5;28;01mNone\u001b[39;00m))\n\u001b[1;32m    348\u001b[0m     \u001b[38;5;28;01mreturn\u001b[39;00m response\n",
      "File \u001b[0;32m~/scrapy-env/lib/python3.9/site-packages/selenium/webdriver/remote/errorhandler.py:245\u001b[0m, in \u001b[0;36mErrorHandler.check_response\u001b[0;34m(self, response)\u001b[0m\n\u001b[1;32m    243\u001b[0m         alert_text \u001b[38;5;241m=\u001b[39m value[\u001b[38;5;124m\"\u001b[39m\u001b[38;5;124malert\u001b[39m\u001b[38;5;124m\"\u001b[39m]\u001b[38;5;241m.\u001b[39mget(\u001b[38;5;124m\"\u001b[39m\u001b[38;5;124mtext\u001b[39m\u001b[38;5;124m\"\u001b[39m)\n\u001b[1;32m    244\u001b[0m     \u001b[38;5;28;01mraise\u001b[39;00m exception_class(message, screen, stacktrace, alert_text)  \u001b[38;5;66;03m# type: ignore[call-arg]  # mypy is not smart enough here\u001b[39;00m\n\u001b[0;32m--> 245\u001b[0m \u001b[38;5;28;01mraise\u001b[39;00m exception_class(message, screen, stacktrace)\n",
      "\u001b[0;31mNoSuchElementException\u001b[0m: Message: no such element: Unable to locate element: {\"method\":\"css selector\",\"selector\":\".desktop-searchBar\"}\n  (Session info: chrome=115.0.5790.114); For documentation on this error, please visit: https://www.selenium.dev/documentation/webdriver/troubleshooting/errors#no-such-element-exception\nStacktrace:\n0   chromedriver                        0x0000000101a946b8 chromedriver + 4937400\n1   chromedriver                        0x0000000101a8bb73 chromedriver + 4901747\n2   chromedriver                        0x0000000101649616 chromedriver + 435734\n3   chromedriver                        0x000000010168ce0f chromedriver + 712207\n4   chromedriver                        0x000000010168d0a1 chromedriver + 712865\n5   chromedriver                        0x00000001016ce9a4 chromedriver + 981412\n6   chromedriver                        0x00000001016b103d chromedriver + 860221\n7   chromedriver                        0x00000001016cbe76 chromedriver + 970358\n8   chromedriver                        0x00000001016b0de3 chromedriver + 859619\n9   chromedriver                        0x000000010167ed7f chromedriver + 654719\n10  chromedriver                        0x00000001016800de chromedriver + 659678\n11  chromedriver                        0x0000000101a502ad chromedriver + 4657837\n12  chromedriver                        0x0000000101a55130 chromedriver + 4677936\n13  chromedriver                        0x0000000101a5bdef chromedriver + 4705775\n14  chromedriver                        0x0000000101a5605a chromedriver + 4681818\n15  chromedriver                        0x0000000101a2892c chromedriver + 4495660\n16  chromedriver                        0x0000000101a73838 chromedriver + 4802616\n17  chromedriver                        0x0000000101a739b7 chromedriver + 4802999\n18  chromedriver                        0x0000000101a8499f chromedriver + 4872607\n19  libsystem_pthread.dylib             0x00007ff8154171d3 _pthread_start + 125\n20  libsystem_pthread.dylib             0x00007ff815412bd3 thread_start + 15\n"
     ]
    }
   ],
   "source": [
    "from selenium.webdriver.common.by import By\n",
    "driver.find_element(By.CLASS_NAME,'desktop-searchBar').send_keys('blue hairband')\n",
    "driver.find_element(By.CLASS_NAME, 'desktop-submit').click()"
   ]
  },
  {
   "cell_type": "code",
   "execution_count": null,
   "id": "4903055a-a8e3-406a-98fe-b3db446d4a76",
   "metadata": {},
   "outputs": [],
   "source": [
    "while(True): \n",
    "    time.sleep(5)\n",
    "    for product_base in driver.find_elements_by_class_name('product-base'):\n",
    "        links.append( product_base.find_element_by_xpath('./a').get_attribute(\"href\")) \n",
    "        try:\n",
    "            driver.find_element_by_class_name('pagination-next').click()\n",
    "        except:\n",
    "            driver.close()\n",
    "            driver.quit()"
   ]
  },
  {
   "cell_type": "code",
   "execution_count": null,
   "id": "60a5d61a-e57e-4335-9142-155712cd36a2",
   "metadata": {},
   "outputs": [],
   "source": [
    "driver = webdriver.Chrome('chromedriver')\n",
    "driver.get(link)\n",
    "metadata['title'] = driver.find_element_by_class_name('pdp-title').get_attribute(\"innerHTML\")\n",
    "metadata['name'] = driver.find_element_by_class_name('pdp-name').get_attribute(\"innerHTML\")metadata['price'] = driver.find_element_by_class_name('pdp-price').find_element_by_xpath('./strong').get_attribute(\"innerHTML\")"
   ]
  },
  {
   "cell_type": "code",
   "execution_count": null,
   "id": "b381986b-624a-4da9-bbe4-ebe0598abce8",
   "metadata": {},
   "outputs": [],
   "source": [
    "try:\n",
    "    driver.find_element_by_class_name('index-showMoreText').click()\n",
    "for index_row in driver.find_element_by_class_name('index-tableContainer').find_elements_by_class_name('index-row'):\n",
    "    metadata['specifications'][index_row.find_element_by_class_name('index-rowKey').get_attribute(\"innerHTML\")] =  index_row.find_element_by_class_name('index-rowValue').get_attribute(\"innerHTML\") \n",
    "    metadata['productId'] = driver.find_element_by_class_name('supplier-styleId').get_attribute(\"innerHTML\")"
   ]
  },
  {
   "cell_type": "code",
   "execution_count": null,
   "id": "bd20511f-9829-44eb-8fb9-fe0845d2937c",
   "metadata": {},
   "outputs": [],
   "source": [
    "itr = 1\n",
    "for image_tags in driver.find_elements_by_class_name('image-grid-image'):\n",
    "    image_path = os.path.join(\"data\",base,metadata['productId'],'images',str(itr)+\".jpg\")\n",
    "    urllib.request.urlretrieve( image_tags.get_attribute('style').split(\"url(\\\"\")[1].split(\"\\\")\")[0],image_path)\n",
    "    itr +=1"
   ]
  },
  {
   "cell_type": "code",
   "execution_count": null,
   "id": "1715cc04-eca9-4925-9711-2cfd3ecd1320",
   "metadata": {},
   "outputs": [],
   "source": [
    "with open( os.path.join(\"data\",base,metadata['productId'],'metadata.json'), 'w') as fp:\n",
    "    json.dump(metadata, fp)"
   ]
  }
 ],
 "metadata": {
  "kernelspec": {
   "display_name": "Python 3 (ipykernel)",
   "language": "python",
   "name": "python3"
  },
  "language_info": {
   "codemirror_mode": {
    "name": "ipython",
    "version": 3
   },
   "file_extension": ".py",
   "mimetype": "text/x-python",
   "name": "python",
   "nbconvert_exporter": "python",
   "pygments_lexer": "ipython3",
   "version": "3.9.16"
  },
  "widgets": {
   "application/vnd.jupyter.widget-state+json": {
    "state": {},
    "version_major": 2,
    "version_minor": 0
   }
  }
 },
 "nbformat": 4,
 "nbformat_minor": 5
}
